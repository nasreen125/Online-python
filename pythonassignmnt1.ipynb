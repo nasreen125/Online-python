{
 "cells": [
  {
   "cell_type": "code",
   "execution_count": 1,
   "id": "95fc4258",
   "metadata": {},
   "outputs": [
    {
     "name": "stdout",
     "output_type": "stream",
     "text": [
      "Twinkle,twinkle,little star,\n",
      "         How I wonder what you are!\n",
      "                 Up above the world so high,\n",
      "                 Like a diamond in the sky.\n",
      "Twinkle,twinkle,little star,\n",
      "         How I wonder what you are\n"
     ]
    }
   ],
   "source": [
    "print(\"Twinkle,twinkle,little star,\")\n",
    "print(\"         How I wonder what you are!\")\n",
    "print(\"                 Up above the world so high,\")\n",
    "print(\"                 Like a diamond in the sky.\")\n",
    "print(\"Twinkle,twinkle,little star,\")\n",
    "print(\"         How I wonder what you are\")"
   ]
  },
  {
   "cell_type": "code",
   "execution_count": 2,
   "id": "62c8ff0d",
   "metadata": {},
   "outputs": [
    {
     "name": "stdout",
     "output_type": "stream",
     "text": [
      "Python Version\n",
      "3.9.7 (default, Sep 16 2021, 16:59:28) [MSC v.1916 64 bit (AMD64)]\n"
     ]
    }
   ],
   "source": [
    "import sys\n",
    "print(\"Python Version\")\n",
    "print(sys.version);"
   ]
  },
  {
   "cell_type": "code",
   "execution_count": 3,
   "id": "c41b5a75",
   "metadata": {},
   "outputs": [
    {
     "name": "stdout",
     "output_type": "stream",
     "text": [
      "Current Date And Time\n",
      "2022-01-01 18:43:03\n"
     ]
    }
   ],
   "source": [
    "import datetime\n",
    "now = datetime.datetime.now()\n",
    "print(\"Current Date And Time\")\n",
    "print(now.strftime(\"%Y-%m-%d %H:%M:%S\"))"
   ]
  },
  {
   "cell_type": "code",
   "execution_count": 4,
   "id": "76ed6ba5",
   "metadata": {},
   "outputs": [
    {
     "name": "stdout",
     "output_type": "stream",
     "text": [
      "Input the radius of the circle : 67\n",
      "The area of the circle with radius 67.0 is: 14102.609421964582\n"
     ]
    }
   ],
   "source": [
    "from math import pi\n",
    "radius = float(input (\"Input the radius of the circle : \"))\n",
    "print (\"The area of the circle with radius \" + str(radius) + \" is: \" + str(pi * radius**2))"
   ]
  },
  {
   "cell_type": "code",
   "execution_count": 5,
   "id": "105a006e",
   "metadata": {},
   "outputs": [
    {
     "name": "stdout",
     "output_type": "stream",
     "text": [
      "Enter FIRST and LAST Name : \n",
      "Nasreen Khoso\n",
      "osohK neersaN\n"
     ]
    }
   ],
   "source": [
    "print(\"Enter FIRST and LAST Name : \")\n",
    "NameStr=str(input())\n",
    "LengthOfString=len(NameStr)\n",
    "ReverseOfString=NameStr[LengthOfString::-1]\n",
    "print(ReverseOfString)"
   ]
  },
  {
   "cell_type": "code",
   "execution_count": 7,
   "id": "c345a7e1",
   "metadata": {},
   "outputs": [
    {
     "name": "stdout",
     "output_type": "stream",
     "text": [
      "68\n",
      "99\n",
      "addition\n",
      "167\n"
     ]
    }
   ],
   "source": [
    "a=int(input())\n",
    "b=int(input())\n",
    "print(\"addition\")\n",
    "print(a+b)"
   ]
  },
  {
   "cell_type": "code",
   "execution_count": null,
   "id": "6411c26f",
   "metadata": {},
   "outputs": [],
   "source": []
  }
 ],
 "metadata": {
  "kernelspec": {
   "display_name": "Python 3 (ipykernel)",
   "language": "python",
   "name": "python3"
  },
  "language_info": {
   "codemirror_mode": {
    "name": "ipython",
    "version": 3
   },
   "file_extension": ".py",
   "mimetype": "text/x-python",
   "name": "python",
   "nbconvert_exporter": "python",
   "pygments_lexer": "ipython3",
   "version": "3.9.7"
  }
 },
 "nbformat": 4,
 "nbformat_minor": 5
}
